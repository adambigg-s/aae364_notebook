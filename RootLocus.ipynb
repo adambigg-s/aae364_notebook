{
 "cells": [
  {
   "cell_type": "code",
   "execution_count": 1,
   "id": "6a1b6d82-182c-4b2b-b7cd-7104e6ac07bb",
   "metadata": {},
   "outputs": [],
   "source": [
    "import sympy\n",
    "import control\n",
    "import numpy as np\n",
    "import matplotlib.pyplot as plt"
   ]
  },
  {
   "cell_type": "markdown",
   "id": "d6d10472-57e1-4df9-ba32-b120d5233407",
   "metadata": {},
   "source": [
    "# 1 Root Locus"
   ]
  },
  {
   "cell_type": "code",
   "execution_count": 2,
   "id": "7175ab4e-4df3-4746-8152-14ce4d74f85d",
   "metadata": {},
   "outputs": [],
   "source": [
    "def sympy_to_control(tf):\n",
    "    s = sympy.symbols('s')\n",
    "    num, den = sympy.fraction(tf)\n",
    "    num = sympy.poly(num, s)\n",
    "    den = sympy.poly(den, s)\n",
    "    n = np.array(num.all_coeffs(), dtype=float)\n",
    "    d = np.array(den.all_coeffs(), dtype=float)\n",
    "    return control.tf(n, d)\n",
    "\n",
    "def rlocus(tf, *args, **kwargs):\n",
    "    return control.rlocus(sympy_to_control(tf), *args, **kwargs)\n",
    "\n",
    "def step_response(tf, *args, **kwargs):\n",
    "    return control.step_response(sympy_to_control(tf), *args, **kwargs)\n",
    "\n",
    "def forced_response(tf, *args, **kwargs):\n",
    "    return control.forced_response(sympy_to_control(tf), *args, **kwargs)\n",
    "\n",
    "def wrap_deg(angle):\n",
    "    while angle > 180:\n",
    "        angle -= 360\n",
    "    while angle < -180:\n",
    "        angle += 360\n",
    "    return angle\n",
    "\n",
    "def zpk(tf):\n",
    "    s = sympy.symbols('s')\n",
    "    num, den = sympy.fraction(tf)\n",
    "    num = sympy.poly(num, s)\n",
    "    den = sympy.poly(den, s)\n",
    "    zeros = sympy.roots(num, multiple=True)\n",
    "    poles = sympy.roots(den, multiple=True)\n",
    "    Gzp = 1\n",
    "    for z in zeros:\n",
    "        Gzp *= (s - z)\n",
    "    for p in poles:\n",
    "        Gzp /= (s - p)\n",
    "    k = sympy.simplify(tf/Gzp)\n",
    "    return  zeros, poles, k\n",
    "    \n",
    "def root_locus_problem(G):\n",
    "    s = sympy.symbols('s')\n",
    "    zeros, poles, gain = zpk(G)\n",
    "\n",
    "    print('\\n====================================')\n",
    "    print('Part 1')\n",
    "    print('zeros:', zeros)\n",
    "    print('poles:', poles)\n",
    "\n",
    "    print('\\n====================================')\n",
    "    print('Part 2')\n",
    "    n = len(poles)\n",
    "    m = len(zeros)\n",
    "    num_asymptotes = n - m\n",
    "    print('num asymptotes:', n-m)\n",
    "\n",
    "    if gain > 0:\n",
    "        angle_start = 180\n",
    "    else:\n",
    "        angle_start = 0\n",
    "        \n",
    "    asymptotes = np.array([ wrap_deg((angle_start + 360*j)/num_asymptotes) for j in range(num_asymptotes)])\n",
    "    print('asymptotes deg:', asymptotes)\n",
    "\n",
    "    centroid = (np.sum(poles) -np.sum(zeros))/(n - m)\n",
    "    print('centroid', centroid)\n",
    "\n",
    "    print('\\n====================================')\n",
    "    print('Part 3: Break away/in')\n",
    "    K = sympy.symbols('K', real=True)\n",
    "    f_K = sympy.solve(K*G + 1)[0][K]\n",
    "    break_away_in = sympy.solve(f_K.diff(s))\n",
    "    print('candidate break awak/in', break_away_in)\n",
    "\n",
    "    print('\\n====================================')\n",
    "    print('Part 4: Imaginary Crossing')\n",
    "    omega = sympy.symbols('omega', real=True)\n",
    "    G_jw = G.subs(s, sympy.I*omega).expand(complex=True).collect(sympy.I)\n",
    "    print('re(G(j omega)):', sympy.re(K*G_jw).simplify(), '= -1')\n",
    "    print('im(G(j omega)):', sympy.im(K*G_jw).simplify(), '= 0')\n",
    "    omega = sympy.symbols('omega', real=True)\n",
    "    print(sympy.solve(sympy.im((K*G).subs(s, sympy.I*omega)), omega))\n",
    "    sol_omega = np.array(sympy.solve(sympy.im((K*G).subs(s, sympy.I*omega)), omega), dtype=float)\n",
    "    try:\n",
    "        omega_val = sol_omega[np.argwhere(sol_omega > 0)[0][0]]\n",
    "        print('omega:', omega_val)\n",
    "        K_val = sympy.solve(sympy.re((K*G_jw)).subs(omega, omega_val).simplify() + 1, K)[0]\n",
    "        print('K:', K_val)\n",
    "    except IndexError as e:\n",
    "        print(e)\n",
    "        print('no imaginary crossing')\n",
    "\n",
    "    print('\\n====================================')\n",
    "    print('Part 5: Angle of Arrival/ Departure')\n",
    "    arrival = {}\n",
    "    departure = {}\n",
    "    for i_s, s in enumerate(zeros):\n",
    "        arrival[s] = angle_start\n",
    "        for i_p, p in enumerate(poles):\n",
    "            arrival[s] += wrap_deg(np.rad2deg(np.angle(complex(s - p))))\n",
    "        for i_z, z in enumerate(zeros):\n",
    "            if i_z == i_s:\n",
    "                continue\n",
    "            arrival[s] -= wrap_deg(np.rad2deg(np.angle(complex(s - z))))\n",
    "\n",
    "    for i_s, s in enumerate(poles):\n",
    "        departure[s] = angle_start\n",
    "        for i_p, p in enumerate(poles):\n",
    "            if i_p == i_s:\n",
    "                continue\n",
    "            departure[s] -= wrap_deg(np.rad2deg(np.angle(complex(s - p))))\n",
    "        for i_z, z in enumerate(zeros):\n",
    "            departure[s] += wrap_deg(np.rad2deg(np.angle(complex(s - z))))\n",
    "    \n",
    "    for k in arrival.keys():\n",
    "        if arrival[k] > 180:\n",
    "            arrival[k] -= 360\n",
    "            \n",
    "    for k in departure.keys():\n",
    "        if departure[k] > 180:\n",
    "            departure[k] -= 360\n",
    "    \n",
    "    # account for repeated poles/zeros\n",
    "    num, den = sympy.fraction(G)\n",
    "    zeros_mult = sympy.roots(num)\n",
    "    poles_mult = sympy.roots(den)\n",
    "    print(zeros_mult)\n",
    "    print(poles_mult)\n",
    "    for p in poles_mult.keys():\n",
    "        n = poles_mult[p]\n",
    "        departure[p] /= n\n",
    "\n",
    "    for z in zeros_mult.keys():\n",
    "        n = zeros_mult[z]\n",
    "        arrival[z] /= n\n",
    "    print('poles', poles)\n",
    "    print('zeros', zeros)\n",
    "\n",
    "    print('arrival: ', arrival)\n",
    "    print('departure: ', departure)\n",
    "    \n",
    "    print('\\n====================================')\n",
    "    print('Part 6: Draw Root Locus')\n",
    "    rlocus(G)"
   ]
  },
  {
   "cell_type": "code",
   "execution_count": 4,
   "id": "ca05290d-b901-493b-ba90-ffa0055112ba",
   "metadata": {},
   "outputs": [
    {
     "data": {
      "text/latex": [
       "$\\displaystyle \\frac{1}{\\left(s + 2\\right) \\left(s^{2} + 2 s + 1\\right)}$"
      ],
      "text/plain": [
       "1/((s + 2)*(s**2 + 2*s + 1))"
      ]
     },
     "execution_count": 4,
     "metadata": {},
     "output_type": "execute_result"
    }
   ],
   "source": [
    "s = sympy.symbols('s')\n",
    "G = 1/((s**2 + 2*s + 1)*(s + 2))\n",
    "G"
   ]
  },
  {
   "cell_type": "code",
   "execution_count": 5,
   "id": "be332d99-dfe8-44d4-8653-ade66fa32a68",
   "metadata": {},
   "outputs": [
    {
     "name": "stdout",
     "output_type": "stream",
     "text": [
      "\n",
      "====================================\n",
      "Part 1\n",
      "zeros: []\n",
      "poles: [-2, -1, -1]\n",
      "\n",
      "====================================\n",
      "Part 2\n",
      "num asymptotes: 3\n",
      "asymptotes deg: [ 60. 180. -60.]\n",
      "centroid -4/3\n",
      "\n",
      "====================================\n",
      "Part 3: Break away/in\n",
      "candidate break awak/in [-5/3, -1]\n",
      "\n",
      "====================================\n",
      "Part 4: Imaginary Crossing\n",
      "re(G(j omega)): 2*K*(1 - 2*omega**2)/(omega**6 + 6*omega**4 + 9*omega**2 + 4) = -1\n",
      "im(G(j omega)): K*omega*(omega**2 - 5)/(omega**6 + 6*omega**4 + 9*omega**2 + 4) = 0\n",
      "[]\n",
      "index 0 is out of bounds for axis 0 with size 0\n",
      "no imaginary crossing\n",
      "\n",
      "====================================\n",
      "Part 5: Angle of Arrival/ Departure\n",
      "{}\n",
      "{-2: 1, -1: 2}\n",
      "poles [-2, -1, -1]\n",
      "zeros []\n",
      "arrival:  {}\n",
      "departure:  {-2: -180.0, -1: 90.0}\n",
      "\n",
      "====================================\n",
      "Part 6: Draw Root Locus\n"
     ]
    },
    {
     "data": {
      "image/png": "[encoded data removed]",
      "text/plain": [
       "<Figure size 432x288 with 1 Axes>"
      ]
     },
     "metadata": {
      "needs_background": "light"
     },
     "output_type": "display_data"
    }
   ],
   "source": [
    "root_locus_problem(G)"
   ]
  },
  {
   "cell_type": "code",
   "execution_count": 6,
   "id": "db9d4097-050b-477b-b77f-1eb2649b1326",
   "metadata": {},
   "outputs": [
    {
     "data": {
      "text/latex": [
       "$\\displaystyle - \\frac{s}{\\left(s + 1\\right) \\left(s + 2\\right)}$"
      ],
      "text/plain": [
       "-s/((s + 1)*(s + 2))"
      ]
     },
     "execution_count": 6,
     "metadata": {},
     "output_type": "execute_result"
    }
   ],
   "source": [
    "G = -s/((s+1)*(s+2))\n",
    "G"
   ]
  },
  {
   "cell_type": "code",
   "execution_count": 7,
   "id": "ef9213a7-d710-464a-b868-6421033a1ede",
   "metadata": {},
   "outputs": [
    {
     "name": "stdout",
     "output_type": "stream",
     "text": [
      "\n",
      "====================================\n",
      "Part 1\n",
      "zeros: [0]\n",
      "poles: [-2, -1]\n",
      "\n",
      "====================================\n",
      "Part 2\n",
      "num asymptotes: 1\n",
      "asymptotes deg: [0.]\n",
      "centroid -3\n",
      "\n",
      "====================================\n",
      "Part 3: Break away/in\n",
      "candidate break awak/in [-sqrt(2), sqrt(2)]\n",
      "\n",
      "====================================\n",
      "Part 4: Imaginary Crossing\n",
      "re(G(j omega)): -3*K*omega**2/(omega**4 + 5*omega**2 + 4) = -1\n",
      "im(G(j omega)): K*omega*(omega**2 - 2)/(omega**4 + 5*omega**2 + 4) = 0\n",
      "[0]\n",
      "index 0 is out of bounds for axis 0 with size 0\n",
      "no imaginary crossing\n",
      "\n",
      "====================================\n",
      "Part 5: Angle of Arrival/ Departure\n",
      "{0: 1}\n",
      "{-1: 1, -2: 1}\n",
      "poles [-2, -1]\n",
      "zeros [0]\n",
      "arrival:  {0: 0.0}\n",
      "departure:  {-2: 0.0, -1: 180.0}\n",
      "\n",
      "====================================\n",
      "Part 6: Draw Root Locus\n"
     ]
    },
    {
     "data": {
      "image/png": "[encoded data removed]",
      "text/plain": [
       "<Figure size 432x288 with 1 Axes>"
      ]
     },
     "metadata": {
      "needs_background": "light"
     },
     "output_type": "display_data"
    }
   ],
   "source": [
    "root_locus_problem(G)"
   ]
  },
  {
   "cell_type": "code",
   "execution_count": 9,
   "id": "32e94ad7-824f-44fb-8157-c1f6a8cc2f01",
   "metadata": {},
   "outputs": [
    {
     "data": {
      "text/latex": [
       "$\\displaystyle \\frac{1}{s^{2} + 4}$"
      ],
      "text/plain": [
       "1/(s**2 + 4)"
      ]
     },
     "execution_count": 9,
     "metadata": {},
     "output_type": "execute_result"
    }
   ],
   "source": [
    "G = 1/(s**2 + 4)\n",
    "G"
   ]
  },
  {
   "cell_type": "code",
   "execution_count": 11,
   "id": "c0c58f20-b439-4d58-8e49-956263ed1a0c",
   "metadata": {},
   "outputs": [],
   "source": [
    "s_d = -4 + 2*sympy.I"
   ]
  },
  {
   "cell_type": "code",
   "execution_count": 13,
   "id": "917e4c32-4117-45c8-9fe6-96badf27805c",
   "metadata": {},
   "outputs": [
    {
     "data": {
      "text/latex": [
       "$\\displaystyle \\frac{\\pi}{4}$"
      ],
      "text/plain": [
       "pi/4"
      ]
     },
     "execution_count": 13,
     "metadata": {},
     "output_type": "execute_result"
    }
   ],
   "source": [
    "sympy.arg(G.subs(s, s_d))"
   ]
  },
  {
   "cell_type": "code",
   "execution_count": 16,
   "id": "b2da96f5-197b-4efb-b24a-5e96d0a23635",
   "metadata": {},
   "outputs": [
    {
     "data": {
      "text/plain": [
       "45"
      ]
     },
     "execution_count": 16,
     "metadata": {},
     "output_type": "execute_result"
    }
   ],
   "source": [
    "360-315"
   ]
  },
  {
   "cell_type": "code",
   "execution_count": 17,
   "id": "6923d81f-5e60-443f-b1f8-c9f17f8f5438",
   "metadata": {},
   "outputs": [],
   "source": [
    "K_PD = 8*(s+2)"
   ]
  },
  {
   "cell_type": "code",
   "execution_count": 23,
   "id": "9f3ca952-73cb-4604-a787-582525cc51d4",
   "metadata": {},
   "outputs": [
    {
     "data": {
      "text/plain": [
       "[<matplotlib.lines.Line2D at 0x7fc3acf17b50>]"
      ]
     },
     "execution_count": 23,
     "metadata": {},
     "output_type": "execute_result"
    },
    {
     "data": {
      "image/png": "[encoded data removed]",
      "text/plain": [
       "<Figure size 432x288 with 1 Axes>"
      ]
     },
     "metadata": {
      "needs_background": "light"
     },
     "output_type": "display_data"
    }
   ],
   "source": [
    "rlocus(G*K_PD);\n",
    "plt.plot(-4, 2, 'rs')"
   ]
  },
  {
   "cell_type": "code",
   "execution_count": 26,
   "id": "cfebb995-6d31-4a83-9569-32d927886fd9",
   "metadata": {},
   "outputs": [
    {
     "data": {
      "text/latex": [
       "$\\displaystyle -1$"
      ],
      "text/plain": [
       "-1"
      ]
     },
     "execution_count": 26,
     "metadata": {},
     "output_type": "execute_result"
    }
   ],
   "source": [
    "sympy.simplify((G*K_PD).subs(s, s_d))"
   ]
  },
  {
   "cell_type": "code",
   "execution_count": 27,
   "id": "50c6c32c-d9f9-4ee0-8e52-c33ab54815ce",
   "metadata": {},
   "outputs": [],
   "source": [
    "K_PI = 1.002*(s + 0.01)/s"
   ]
  },
  {
   "cell_type": "code",
   "execution_count": 36,
   "id": "9be50708-3ec1-4bbc-bafd-7f8c4cd48059",
   "metadata": {},
   "outputs": [
    {
     "data": {
      "text/latex": [
       "$\\displaystyle 8.016 s + 16.11216 + \\frac{0.16032}{s}$"
      ],
      "text/plain": [
       "8.016*s + 16.11216 + 0.16032/s"
      ]
     },
     "execution_count": 36,
     "metadata": {},
     "output_type": "execute_result"
    }
   ],
   "source": [
    "(K_PI*K_PD).expand()"
   ]
  },
  {
   "cell_type": "code",
   "execution_count": 38,
   "id": "76724366-99b7-42f3-ad28-847592c94faf",
   "metadata": {},
   "outputs": [
    {
     "data": {
      "text/latex": [
       "$\\displaystyle \\frac{1.002 s + 0.01002}{s}$"
      ],
      "text/plain": [
       "(1.002*s + 0.01002)/s"
      ]
     },
     "execution_count": 38,
     "metadata": {},
     "output_type": "execute_result"
    }
   ],
   "source": [
    "K_PI"
   ]
  },
  {
   "cell_type": "code",
   "execution_count": 41,
   "id": "33b65dca-bf00-4046-80d2-34bd15b340dc",
   "metadata": {},
   "outputs": [
    {
     "data": {
      "text/latex": [
       "$\\displaystyle \\frac{1 - s}{s \\left(s + 1\\right)}$"
      ],
      "text/plain": [
       "(1 - s)/(s*(s + 1))"
      ]
     },
     "execution_count": 41,
     "metadata": {},
     "output_type": "execute_result"
    }
   ],
   "source": [
    "G = -(s-1)/(s*(s+1))\n",
    "G"
   ]
  },
  {
   "cell_type": "code",
   "execution_count": 42,
   "id": "4e8c49f1-1ada-4a02-b60a-80d93eb421fb",
   "metadata": {},
   "outputs": [],
   "source": [
    "s_d = -1 + 1j"
   ]
  },
  {
   "cell_type": "code",
   "execution_count": 46,
   "id": "76b061e2-0cf9-441f-99c7-94a345883ad7",
   "metadata": {},
   "outputs": [
    {
     "data": {
      "text/latex": [
       "$\\displaystyle 108.434948822922$"
      ],
      "text/plain": [
       "108.434948822922"
      ]
     },
     "execution_count": 46,
     "metadata": {},
     "output_type": "execute_result"
    }
   ],
   "source": [
    "sympy.N(sympy.arg(G.subs(s, s_d))*180/sympy.pi)"
   ]
  },
  {
   "cell_type": "code",
   "execution_count": 47,
   "id": "d33428e7-5b1b-4525-a0b4-9e8db6721175",
   "metadata": {},
   "outputs": [
    {
     "data": {
      "text/latex": [
       "$\\displaystyle 71.565051177078$"
      ],
      "text/plain": [
       "71.5650511770780"
      ]
     },
     "execution_count": 47,
     "metadata": {},
     "output_type": "execute_result"
    }
   ],
   "source": [
    "180 - sympy.N(sympy.arg(G.subs(s, s_d))*180/sympy.pi)"
   ]
  },
  {
   "cell_type": "code",
   "execution_count": 65,
   "id": "9de79da3-e734-4219-884e-d7cd6ca83111",
   "metadata": {},
   "outputs": [],
   "source": [
    "K_lead = 2*(s+1)/(s+4)"
   ]
  },
  {
   "cell_type": "code",
   "execution_count": 66,
   "id": "c0b26962-bbdf-47e6-bfc5-3a208a73765c",
   "metadata": {},
   "outputs": [
    {
     "data": {
      "text/latex": [
       "$\\displaystyle 71.565051177078$"
      ],
      "text/plain": [
       "71.5650511770780"
      ]
     },
     "execution_count": 66,
     "metadata": {},
     "output_type": "execute_result"
    }
   ],
   "source": [
    "sympy.N(\n",
    "    sympy.arg(K_lead.subs(s, s_d))*180/sympy.pi)"
   ]
  },
  {
   "cell_type": "code",
   "execution_count": 67,
   "id": "e0600621-561e-4f33-9cbf-dea4ac84cdfd",
   "metadata": {},
   "outputs": [
    {
     "data": {
      "text/latex": [
       "$\\displaystyle 1.0$"
      ],
      "text/plain": [
       "1.00000000000000"
      ]
     },
     "execution_count": 67,
     "metadata": {},
     "output_type": "execute_result"
    }
   ],
   "source": [
    "sympy.Abs((K_lead*G).subs(s, s_d))"
   ]
  },
  {
   "cell_type": "code",
   "execution_count": 72,
   "id": "42ce28be-6531-4820-a924-8d74f17d4284",
   "metadata": {},
   "outputs": [
    {
     "data": {
      "text/latex": [
       "$\\displaystyle 2.03$"
      ],
      "text/plain": [
       "2.03000000000000"
      ]
     },
     "execution_count": 72,
     "metadata": {},
     "output_type": "execute_result"
    }
   ],
   "source": [
    "K_lag = 1.015*(s + 0.04)/(s + 0.01)\n",
    "Kv = sympy.Abs((s*G*K_lead*K_lag).subs(s, 0))\n",
    "Kv"
   ]
  },
  {
   "cell_type": "code",
   "execution_count": 79,
   "id": "3f655fd4-0bfe-488c-84ff-1386e3cd2a28",
   "metadata": {},
   "outputs": [
    {
     "data": {
      "text/latex": [
       "$\\displaystyle \\frac{2 s + 2}{s + 4}$"
      ],
      "text/plain": [
       "(2*s + 2)/(s + 4)"
      ]
     },
     "execution_count": 79,
     "metadata": {},
     "output_type": "execute_result"
    }
   ],
   "source": [
    "K_lead"
   ]
  },
  {
   "cell_type": "code",
   "execution_count": 82,
   "id": "504327ca-7eda-4926-8f78-22e4669f1df9",
   "metadata": {},
   "outputs": [
    {
     "data": {
      "text/latex": [
       "$\\displaystyle \\frac{2.03 \\left(1.0 s + 0.04\\right) \\left(s + 1\\right)}{\\left(1.0 s + 0.01\\right) \\left(s + 4\\right)}$"
      ],
      "text/plain": [
       "2.03*(1.0*s + 0.04)*(s + 1)/((1.0*s + 0.01)*(s + 4))"
      ]
     },
     "execution_count": 82,
     "metadata": {},
     "output_type": "execute_result"
    }
   ],
   "source": [
    "(K_lead*K_lag).factor(s)"
   ]
  }
 ],
 "metadata": {
  "kernelspec": {
   "display_name": "Python 3 (ipykernel)",
   "language": "python",
   "name": "python3"
  },
  "language_info": {
   "codemirror_mode": {
    "name": "ipython",
    "version": 3
   },
   "file_extension": ".py",
   "mimetype": "text/x-python",
   "name": "python",
   "nbconvert_exporter": "python",
   "pygments_lexer": "ipython3",
   "version": "3.8.12"
  }
 },
 "nbformat": 4,
 "nbformat_minor": 5
}
