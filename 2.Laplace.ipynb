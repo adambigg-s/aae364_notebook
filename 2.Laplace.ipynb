{
 "cells": [
  {
   "cell_type": "code",
   "execution_count": 1,
   "metadata": {},
   "outputs": [
    {
     "name": "stdout",
     "output_type": "stream",
     "text": [
      "Populating the interactive namespace from numpy and matplotlib\n"
     ]
    }
   ],
   "source": [
    "%pylab inline\n",
    "import sympy\n",
    "sympy.init_printing()"
   ]
  },
  {
   "cell_type": "code",
   "execution_count": 2,
   "metadata": {},
   "outputs": [],
   "source": [
    "t, sigma, omega = sympy.symbols('t, sigma, omega')\n",
    "s = sympy.symbols('s', complex=True)"
   ]
  },
  {
   "cell_type": "code",
   "execution_count": 3,
   "metadata": {},
   "outputs": [
    {
     "data": {
      "image/png": "[encoded data removed]",
      "text/latex": [
       "$\\displaystyle \\int\\limits_{0}^{\\infty} t e^{- s t}\\, dt$"
      ],
      "text/plain": [
       "∞           \n",
       "⌠           \n",
       "⎮    -s⋅t   \n",
       "⎮ t⋅ℯ     dt\n",
       "⌡           \n",
       "0           "
      ]
     },
     "execution_count": 3,
     "metadata": {},
     "output_type": "execute_result"
    }
   ],
   "source": [
    "def my_laplace_transform(f):\n",
    "    return sympy.Integral(f*sympy.exp(-s*t), (t, 0, sympy.oo))\n",
    "\n",
    "my_laplace_transform(t)"
   ]
  },
  {
   "cell_type": "code",
   "execution_count": 4,
   "metadata": {},
   "outputs": [
    {
     "data": {
      "image/png": "[encoded data removed]",
      "text/latex": [
       "$\\displaystyle \\begin{cases} 0 & \\text{for}\\: \\left|{\\arg{\\left(s \\right)} + \\pi}\\right| < \\frac{\\pi}{2} \\wedge \\left|{\\arg{\\left(s \\right)}}\\right| < \\frac{\\pi}{2} \\\\\\int\\limits_{-\\infty}^{\\infty} e^{- s t}\\, dt & \\text{otherwise} \\end{cases}$"
      ],
      "text/plain": [
       "⎧                                π              π\n",
       "⎪     0       for │arg(s) + π│ < ─ ∧ │arg(s)│ < ─\n",
       "⎪                                2              2\n",
       "⎪                                                \n",
       "⎪∞                                               \n",
       "⎨⌠                                               \n",
       "⎪⎮   -s⋅t                                        \n",
       "⎪⎮  ℯ     dt               otherwise             \n",
       "⎪⌡                                               \n",
       "⎪-∞                                              \n",
       "⎩                                                "
      ]
     },
     "execution_count": 4,
     "metadata": {},
     "output_type": "execute_result"
    }
   ],
   "source": [
    "def my_laplace_transform_double_sided(f):\n",
    "    return sympy.Integral(f*sympy.exp(-s*t), (t, -sympy.oo, sympy.oo))\n",
    "\n",
    "my_laplace_transform_double_sided(1).doit()"
   ]
  },
  {
   "cell_type": "code",
   "execution_count": 5,
   "metadata": {},
   "outputs": [
    {
     "data": {
      "image/png": "[encoded data removed]",
      "text/latex": [
       "$\\displaystyle \\begin{cases} - \\frac{e^{- s t}}{s} & \\text{for}\\: s \\neq 0 \\\\t & \\text{otherwise} \\end{cases}$"
      ],
      "text/plain": [
       "⎧  -s⋅t            \n",
       "⎪-ℯ                \n",
       "⎪───────  for s ≠ 0\n",
       "⎨   s              \n",
       "⎪                  \n",
       "⎪   t     otherwise\n",
       "⎩                  "
      ]
     },
     "execution_count": 5,
     "metadata": {},
     "output_type": "execute_result"
    }
   ],
   "source": [
    "sympy.integrate(sympy.exp(-s*t), t)"
   ]
  },
  {
   "cell_type": "code",
   "execution_count": 5,
   "metadata": {},
   "outputs": [
    {
     "data": {
      "image/png": "[encoded data removed]",
      "text/latex": [
       "$\\displaystyle \\begin{cases} \\frac{2}{s^{2} + 4} & \\text{for}\\: 2 \\left|{\\arg{\\left(s \\right)}}\\right| < \\pi \\\\\\int\\limits_{0}^{\\infty} e^{- s t} \\sin{\\left(2 t \\right)}\\, dt & \\text{otherwise} \\end{cases}$"
      ],
      "text/plain": [
       "⎧        2                              \n",
       "⎪      ──────         for 2⋅│arg(s)│ < π\n",
       "⎪       2                               \n",
       "⎪      s  + 4                           \n",
       "⎪                                       \n",
       "⎨∞                                      \n",
       "⎪⌠                                      \n",
       "⎪⎮  -s⋅t                                \n",
       "⎪⎮ ℯ    ⋅sin(2⋅t) dt      otherwise     \n",
       "⎪⌡                                      \n",
       "⎩0                                      "
      ]
     },
     "execution_count": 5,
     "metadata": {},
     "output_type": "execute_result"
    }
   ],
   "source": [
    "my_laplace_transform(sympy.sin(2*t)).doit().simplify()"
   ]
  },
  {
   "cell_type": "code",
   "execution_count": 6,
   "metadata": {},
   "outputs": [
    {
     "data": {
      "image/png": "[encoded data removed]",
      "text/latex": [
       "$\\displaystyle \\begin{cases} \\frac{1}{s^{2}} & \\text{for}\\: \\left|{\\arg{\\left(s \\right)}}\\right| < \\frac{\\pi}{2} \\\\\\int\\limits_{0}^{\\infty} t e^{- s t}\\, dt & \\text{otherwise} \\end{cases}$"
      ],
      "text/plain": [
       "⎧     1                       π\n",
       "⎪     ──       for │arg(s)│ < ─\n",
       "⎪      2                      2\n",
       "⎪     s                        \n",
       "⎪                              \n",
       "⎨∞                             \n",
       "⎪⌠                             \n",
       "⎪⎮    -s⋅t                     \n",
       "⎪⎮ t⋅ℯ     dt     otherwise    \n",
       "⎪⌡                             \n",
       "⎩0                             "
      ]
     },
     "execution_count": 6,
     "metadata": {},
     "output_type": "execute_result"
    }
   ],
   "source": [
    "my_laplace_transform(t).doit()"
   ]
  },
  {
   "cell_type": "code",
   "execution_count": 7,
   "metadata": {},
   "outputs": [
    {
     "data": {
      "image/png": "[encoded data removed]",
      "text/latex": [
       "$\\displaystyle \\left( \\frac{1}{s^{2} + 1}, \\  0, \\  \\text{True}\\right)$"
      ],
      "text/plain": [
       "⎛  1            ⎞\n",
       "⎜──────, 0, True⎟\n",
       "⎜ 2             ⎟\n",
       "⎝s  + 1         ⎠"
      ]
     },
     "execution_count": 7,
     "metadata": {},
     "output_type": "execute_result"
    }
   ],
   "source": [
    "sympy.laplace_transform(sympy.sin(t), t, s)"
   ]
  },
  {
   "cell_type": "code",
   "execution_count": 8,
   "metadata": {},
   "outputs": [
    {
     "data": {
      "image/png": "[encoded data removed]",
      "text/latex": [
       "$\\displaystyle \\begin{cases} \\frac{\\omega}{\\omega^{2} + s^{2}} & \\text{for}\\: 2 \\left|{\\arg{\\left(\\omega \\right)}}\\right| = 0 \\wedge 2 \\left|{\\arg{\\left(s \\right)}}\\right| < \\pi \\\\\\int\\limits_{0}^{\\infty} e^{- s t} \\sin{\\left(\\omega t \\right)}\\, dt & \\text{otherwise} \\end{cases}$"
      ],
      "text/plain": [
       "⎧         ω                                              \n",
       "⎪      ───────        for 2⋅│arg(ω)│ = 0 ∧ 2⋅│arg(s)│ < π\n",
       "⎪       2    2                                           \n",
       "⎪      ω  + s                                            \n",
       "⎪                                                        \n",
       "⎨∞                                                       \n",
       "⎪⌠                                                       \n",
       "⎪⎮  -s⋅t                                                 \n",
       "⎪⎮ ℯ    ⋅sin(ω⋅t) dt               otherwise             \n",
       "⎪⌡                                                       \n",
       "⎩0                                                       "
      ]
     },
     "execution_count": 8,
     "metadata": {},
     "output_type": "execute_result"
    }
   ],
   "source": [
    "omega = sympy.symbols('omega')\n",
    "my_laplace_transform(sympy.sin(omega*t)).doit().simplify()"
   ]
  },
  {
   "cell_type": "markdown",
   "metadata": {},
   "source": [
    "# Unit Step"
   ]
  },
  {
   "cell_type": "code",
   "execution_count": 9,
   "metadata": {},
   "outputs": [
    {
     "data": {
      "image/png": "[encoded data removed]",
      "text/latex": [
       "$\\displaystyle \\left( \\frac{1}{s}, \\  0, \\  \\text{True}\\right)$"
      ],
      "text/plain": [
       "⎛1         ⎞\n",
       "⎜─, 0, True⎟\n",
       "⎝s         ⎠"
      ]
     },
     "execution_count": 9,
     "metadata": {},
     "output_type": "execute_result"
    }
   ],
   "source": [
    "sympy.laplace_transform(1, t, s)"
   ]
  },
  {
   "cell_type": "code",
   "execution_count": 10,
   "metadata": {},
   "outputs": [
    {
     "data": {
      "image/png": "[encoded data removed]",
      "text/latex": [
       "$\\displaystyle \\left( \\frac{e^{- 2 t}}{t}, \\  0, \\  \\text{True}\\right)$"
      ],
      "text/plain": [
       "⎛ -2⋅t         ⎞\n",
       "⎜ℯ             ⎟\n",
       "⎜─────, 0, True⎟\n",
       "⎝  t           ⎠"
      ]
     },
     "execution_count": 10,
     "metadata": {},
     "output_type": "execute_result"
    }
   ],
   "source": [
    "y = sympy.exp(-2*t)\n",
    "sympy.laplace_transform(y, s, t)"
   ]
  },
  {
   "cell_type": "code",
   "execution_count": 11,
   "metadata": {},
   "outputs": [
    {
     "data": {
      "image/png": "[encoded data removed]",
      "text/plain": [
       "<Figure size 432x288 with 1 Axes>"
      ]
     },
     "metadata": {
      "needs_background": "light"
     },
     "output_type": "display_data"
    },
    {
     "data": {
      "text/plain": [
       "<sympy.plotting.plot.Plot at 0x7f1884767b20>"
      ]
     },
     "execution_count": 11,
     "metadata": {},
     "output_type": "execute_result"
    }
   ],
   "source": [
    "sympy.plot(y, (t, 0, 5))"
   ]
  },
  {
   "cell_type": "code",
   "execution_count": 10,
   "metadata": {},
   "outputs": [
    {
     "data": {
      "image/png": "[encoded data removed]",
      "text/latex": [
       "$\\displaystyle \\frac{1}{s + 2}$"
      ],
      "text/plain": [
       "  1  \n",
       "─────\n",
       "s + 2"
      ]
     },
     "execution_count": 10,
     "metadata": {},
     "output_type": "execute_result"
    }
   ],
   "source": [
    "Y = sympy.laplace_transform(y, t, s)[0]\n",
    "Y"
   ]
  }
 ],
 "metadata": {
  "kernelspec": {
   "display_name": "Python 3 (ipykernel)",
   "language": "python",
   "name": "python3"
  },
  "language_info": {
   "codemirror_mode": {
    "name": "ipython",
    "version": 3
   },
   "file_extension": ".py",
   "mimetype": "text/x-python",
   "name": "python",
   "nbconvert_exporter": "python",
   "pygments_lexer": "ipython3",
   "version": "3.8.12"
  }
 },
 "nbformat": 4,
 "nbformat_minor": 4
}
