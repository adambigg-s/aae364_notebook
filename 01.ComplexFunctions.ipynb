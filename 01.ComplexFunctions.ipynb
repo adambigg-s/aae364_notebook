{
 "cells": [
  {
   "cell_type": "code",
   "execution_count": 1,
   "metadata": {},
   "outputs": [
    {
     "name": "stdout",
     "output_type": "stream",
     "text": [
      "Populating the interactive namespace from numpy and matplotlib\n"
     ]
    }
   ],
   "source": [
    "%pylab inline\n",
    "import sympy\n",
    "sympy.init_printing()"
   ]
  },
  {
   "cell_type": "code",
   "execution_count": 2,
   "metadata": {},
   "outputs": [],
   "source": [
    "def plot_complex_function(Y, sigma_min, sigma_max, omega_max, log_omega, plot_conj):\n",
    "    sigma_eval=np.linspace(sigma_min, sigma_max, 200)\n",
    "    \n",
    "    # constants\n",
    "    omega_min = 1e-3\n",
    "    nlevels = 20  # levels of contour\n",
    "    nlevels_outline = 10  # levels of contour\n",
    "\n",
    "    # validate input\n",
    "    assert np.all(omega_max > 0)\n",
    "    \n",
    "    # symbolic function\n",
    "    sigma, omega = sympy.symbols('sigma, omega', real=True, positive=True)\n",
    "    s_binomial = sigma + sympy.I*omega\n",
    "    Y_arg = sympy.arg(Y.subs(s, s_binomial))\n",
    "    Y_mag = sympy.Abs(Y.subs(s, s_binomial))\n",
    "    f_Y_euler = sympy.lambdify((sigma, omega), (Y_arg, Y_mag))\n",
    "    \n",
    "    # compute poles and zeros\n",
    "    poles = sympy.solve(sympy.denom(Y))\n",
    "    zeros = sympy.solve(sympy.numer(Y))\n",
    "    re_poles = np.array(np.real(poles), dtype=float)\n",
    "    im_poles = np.array(np.imag(poles), dtype=float)\n",
    "    re_zeros = np.array(np.real(zeros), dtype=float)\n",
    "    im_zeros = np.array(np.imag(zeros), dtype=float)\n",
    "\n",
    "    # evaluate\n",
    "    if log_omega:\n",
    "        omega_eval=np.logspace(np.log10(omega_min), np.log10(omega_max), 200)\n",
    "        yplot = plt.semilogy\n",
    "        xplot = plt.semilogx\n",
    "        im_zeros = np.where(im_zeros < omega_min, omega_min, im_zeros)\n",
    "        im_poles = np.where(im_poles < omega_min, omega_min, im_poles)\n",
    "    else:\n",
    "        omega_eval=np.linspace(omega_min, omega_max, 100)\n",
    "        omega_both = np.concatenate([-np.flip(omega_eval), omega_eval])\n",
    "        yplot = plt.plot\n",
    "        xplot = plt.plot\n",
    "    \n",
    "    if plot_conj and not log_omega:\n",
    "        Sigma, Omega = np.meshgrid(sigma_eval, omega_both)\n",
    "    else:\n",
    "        Sigma, Omega = np.meshgrid(sigma_eval, omega_eval)\n",
    "\n",
    "    Z = f_Y_euler(Sigma, Omega)\n",
    "    angle = np.rad2deg(Z[0])\n",
    "    mag = 20*np.log10(np.abs(Z[1]))\n",
    "    \n",
    "    # angle G(jw)\n",
    "    Z_jw = f_Y_euler(0, omega_eval)\n",
    "    angle_jw = np.rad2deg(Z_jw[0])\n",
    "    mag_jw = 20*np.log10(np.abs(Z_jw[1]))\n",
    "    \n",
    "    # figures\n",
    "    fig = plt.figure(figsize=(20, 10))\n",
    "    \n",
    "    # angle of G(S)\n",
    "    ax = plt.subplot(221)\n",
    "    CS = ax.contourf(Sigma, Omega, angle, nlevels,cmap=plt.cm.hsv)\n",
    "    cbar = plt.colorbar(CS)\n",
    "    CS = ax.contour(Sigma, Omega, angle, nlevels_outline, colors='k', linestyles='--')\n",
    "    cbar.add_lines(CS)\n",
    "    ax.set_title(r'$\\angle G(s),\\ deg$');\n",
    "    ax.set_xlabel(r'$\\sigma$')\n",
    "    ax.set_ylabel(r'$\\omega,\\ rad/s$')\n",
    "    pole_props = {'marker':'x', 'color':'white', 'markeredgewidth':3, 'markersize':20, 'markerfacecolor':'none'}\n",
    "    zero_props = {'marker':'o', 'color':'white', 'markeredgewidth':3, 'markersize':20, 'markerfacecolor':'none'}\n",
    "    h_pole = yplot(re_poles, im_poles, **pole_props)\n",
    "    h_zero = yplot(re_zeros, im_zeros, **zero_props)\n",
    "    h_jw = yplot(0*omega_eval, omega_eval, 'g-', linewidth=5, alpha=0.5)\n",
    "    plt.legend([h_zero[0], h_pole[0], h_jw[0]], ['zero', 'pole', 'jw'], loc='best', ncol=3)\n",
    "    plt.grid()\n",
    "    \n",
    "    # mag of G(S)\n",
    "    ax = plt.subplot(222)\n",
    "    CS2 = ax.contourf(Sigma, Omega, mag, nlevels, cmap=plt.cm.coolwarm)\n",
    "    cbar = plt.colorbar(CS2)\n",
    "    CS2 = ax.contour(Sigma, Omega, mag, nlevels_outline, colors='k', linestyles='--')\n",
    "    cbar.add_lines(CS2)\n",
    "    ax.set_title(r'$|G(s)|,\\ dB$');\n",
    "    ax.set_xlabel(r'$\\sigma$')\n",
    "    ax.set_ylabel(r'$\\omega,\\ rad/s$')\n",
    "    h_pole = yplot(re_poles, im_poles, **pole_props)\n",
    "    h_zero = yplot(re_zeros, im_zeros, **zero_props)\n",
    "    h_jw = yplot(0*omega_eval, omega_eval, 'g-', linewidth=5, alpha=0.5)\n",
    "    plt.legend([h_zero[0], h_pole[0], h_jw[0]], ['zero', 'pole', 'jw'], loc='best', ncol=3)\n",
    "    plt.grid()\n",
    "    \n",
    "    # magnitude of G(jw)\n",
    "    ax = plt.subplot(223)\n",
    "    ax.set_title(r'$\\angle G(j\\omega),\\ deg$');\n",
    "    ax.set_xlabel(r'$\\omega,\\ rad/s$')\n",
    "    xplot(omega_eval, angle_jw)\n",
    "    xplot(omega_eval, angle_jw)\n",
    "    ax.set_ylabel(r'$\\angle G(j\\omega),\\ deg$');\n",
    "    plt.grid()\n",
    "\n",
    "    ax = plt.subplot(224)\n",
    "    ax.set_title(r'$|G(j\\omega)|,\\ dB$');\n",
    "    ax.set_xlabel(r'$\\omega,\\ rad/s$')\n",
    "    xplot(omega_eval, mag_jw)\n",
    "    xplot(omega_eval, mag_jw)\n",
    "    ax.set_ylabel(r'$|G(j\\omega)|,\\ dB$');\n",
    "    plt.grid()"
   ]
  },
  {
   "cell_type": "code",
   "execution_count": 32,
   "metadata": {},
   "outputs": [
    {
     "data": {
      "image/png": "[encoded data removed]",
      "text/latex": [
       "$\\displaystyle \\frac{1}{s^{2} + 0.02 s + 0.01}$"
      ],
      "text/plain": [
       "        1         \n",
       "──────────────────\n",
       " 2                \n",
       "s  + 0.02⋅s + 0.01"
      ]
     },
     "execution_count": 32,
     "metadata": {},
     "output_type": "execute_result"
    }
   ],
   "source": [
    "t, sigma, omega = sympy.symbols('t, sigma, omega')\n",
    "s = sympy.symbols('s', complex=True)\n",
    "\n",
    "zeta = 0.1\n",
    "wn = 0.1\n",
    "Y = 1/(s**2 + 2*zeta*wn*s + wn**2)\n",
    "Y"
   ]
  },
  {
   "cell_type": "code",
   "execution_count": 38,
   "metadata": {},
   "outputs": [
    {
     "data": {
      "text/plain": [
       "array([-0.01+0.09949874j, -0.01-0.09949874j])"
      ]
     },
     "execution_count": 38,
     "metadata": {},
     "output_type": "execute_result"
    }
   ],
   "source": [
    "import control\n",
    "s = control.tf([1, 0], [1])\n",
    "Y_c = wn**2/((s**2 + 2*zeta*wn*s + wn**2))\n",
    "control.pole(Y_c)"
   ]
  },
  {
   "cell_type": "code",
   "execution_count": 40,
   "metadata": {},
   "outputs": [
    {
     "data": {
      "text/latex": [
       "$$\\frac{0.01}{s^2 + 0.02 s + 0.01}$$"
      ],
      "text/plain": [
       "TransferFunction(array([0.01]), array([1.  , 0.02, 0.01]))"
      ]
     },
     "execution_count": 40,
     "metadata": {},
     "output_type": "execute_result"
    }
   ],
   "source": [
    "Y_c"
   ]
  },
  {
   "cell_type": "code",
   "execution_count": 41,
   "metadata": {},
   "outputs": [
    {
     "data": {
      "image/png": "[encoded data removed]",
      "text/plain": [
       "<Figure size 432x288 with 2 Axes>"
      ]
     },
     "metadata": {
      "needs_background": "light"
     },
     "output_type": "display_data"
    }
   ],
   "source": [
    "control.bode(Y_c);"
   ]
  },
  {
   "cell_type": "code",
   "execution_count": 34,
   "metadata": {},
   "outputs": [
    {
     "ename": "TypeError",
     "evalue": "can't convert complex to float",
     "output_type": "error",
     "traceback": [
      "\u001b[0;31m---------------------------------------------------------------------------\u001b[0m",
      "\u001b[0;31mTypeError\u001b[0m                                 Traceback (most recent call last)",
      "\u001b[0;32m/tmp/ipykernel_22206/1432435187.py\u001b[0m in \u001b[0;36m<module>\u001b[0;34m\u001b[0m\n\u001b[0;32m----> 1\u001b[0;31m \u001b[0mplot_complex_function\u001b[0m\u001b[0;34m(\u001b[0m\u001b[0mY\u001b[0m\u001b[0;34m,\u001b[0m \u001b[0msigma_min\u001b[0m\u001b[0;34m=\u001b[0m\u001b[0;34m-\u001b[0m\u001b[0;36m10\u001b[0m\u001b[0;34m,\u001b[0m \u001b[0msigma_max\u001b[0m\u001b[0;34m=\u001b[0m\u001b[0;36m1\u001b[0m\u001b[0;34m,\u001b[0m \u001b[0momega_max\u001b[0m\u001b[0;34m=\u001b[0m\u001b[0;36m10\u001b[0m\u001b[0;34m,\u001b[0m \u001b[0mlog_omega\u001b[0m\u001b[0;34m=\u001b[0m\u001b[0;32mTrue\u001b[0m\u001b[0;34m,\u001b[0m \u001b[0mplot_conj\u001b[0m\u001b[0;34m=\u001b[0m\u001b[0;32mTrue\u001b[0m\u001b[0;34m)\u001b[0m\u001b[0;34m\u001b[0m\u001b[0;34m\u001b[0m\u001b[0m\n\u001b[0m",
      "\u001b[0;32m/tmp/ipykernel_22206/2721795884.py\u001b[0m in \u001b[0;36mplot_complex_function\u001b[0;34m(Y, sigma_min, sigma_max, omega_max, log_omega, plot_conj)\u001b[0m\n\u001b[1;32m     20\u001b[0m     \u001b[0mpoles\u001b[0m \u001b[0;34m=\u001b[0m \u001b[0msympy\u001b[0m\u001b[0;34m.\u001b[0m\u001b[0msolve\u001b[0m\u001b[0;34m(\u001b[0m\u001b[0msympy\u001b[0m\u001b[0;34m.\u001b[0m\u001b[0mdenom\u001b[0m\u001b[0;34m(\u001b[0m\u001b[0mY\u001b[0m\u001b[0;34m)\u001b[0m\u001b[0;34m)\u001b[0m\u001b[0;34m\u001b[0m\u001b[0;34m\u001b[0m\u001b[0m\n\u001b[1;32m     21\u001b[0m     \u001b[0mzeros\u001b[0m \u001b[0;34m=\u001b[0m \u001b[0msympy\u001b[0m\u001b[0;34m.\u001b[0m\u001b[0msolve\u001b[0m\u001b[0;34m(\u001b[0m\u001b[0msympy\u001b[0m\u001b[0;34m.\u001b[0m\u001b[0mnumer\u001b[0m\u001b[0;34m(\u001b[0m\u001b[0mY\u001b[0m\u001b[0;34m)\u001b[0m\u001b[0;34m)\u001b[0m\u001b[0;34m\u001b[0m\u001b[0;34m\u001b[0m\u001b[0m\n\u001b[0;32m---> 22\u001b[0;31m     \u001b[0mre_poles\u001b[0m \u001b[0;34m=\u001b[0m \u001b[0mnp\u001b[0m\u001b[0;34m.\u001b[0m\u001b[0marray\u001b[0m\u001b[0;34m(\u001b[0m\u001b[0mnp\u001b[0m\u001b[0;34m.\u001b[0m\u001b[0mreal\u001b[0m\u001b[0;34m(\u001b[0m\u001b[0mpoles\u001b[0m\u001b[0;34m)\u001b[0m\u001b[0;34m,\u001b[0m \u001b[0mdtype\u001b[0m\u001b[0;34m=\u001b[0m\u001b[0mfloat\u001b[0m\u001b[0;34m)\u001b[0m\u001b[0;34m\u001b[0m\u001b[0;34m\u001b[0m\u001b[0m\n\u001b[0m\u001b[1;32m     23\u001b[0m     \u001b[0mim_poles\u001b[0m \u001b[0;34m=\u001b[0m \u001b[0mnp\u001b[0m\u001b[0;34m.\u001b[0m\u001b[0marray\u001b[0m\u001b[0;34m(\u001b[0m\u001b[0mnp\u001b[0m\u001b[0;34m.\u001b[0m\u001b[0mimag\u001b[0m\u001b[0;34m(\u001b[0m\u001b[0mpoles\u001b[0m\u001b[0;34m)\u001b[0m\u001b[0;34m,\u001b[0m \u001b[0mdtype\u001b[0m\u001b[0;34m=\u001b[0m\u001b[0mfloat\u001b[0m\u001b[0;34m)\u001b[0m\u001b[0;34m\u001b[0m\u001b[0;34m\u001b[0m\u001b[0m\n\u001b[1;32m     24\u001b[0m     \u001b[0mre_zeros\u001b[0m \u001b[0;34m=\u001b[0m \u001b[0mnp\u001b[0m\u001b[0;34m.\u001b[0m\u001b[0marray\u001b[0m\u001b[0;34m(\u001b[0m\u001b[0mnp\u001b[0m\u001b[0;34m.\u001b[0m\u001b[0mreal\u001b[0m\u001b[0;34m(\u001b[0m\u001b[0mzeros\u001b[0m\u001b[0;34m)\u001b[0m\u001b[0;34m,\u001b[0m \u001b[0mdtype\u001b[0m\u001b[0;34m=\u001b[0m\u001b[0mfloat\u001b[0m\u001b[0;34m)\u001b[0m\u001b[0;34m\u001b[0m\u001b[0;34m\u001b[0m\u001b[0m\n",
      "\u001b[0;32m~/anaconda3/envs/research/lib/python3.8/site-packages/sympy/core/expr.py\u001b[0m in \u001b[0;36m__float__\u001b[0;34m(self)\u001b[0m\n\u001b[1;32m    356\u001b[0m             \u001b[0;32mreturn\u001b[0m \u001b[0mfloat\u001b[0m\u001b[0;34m(\u001b[0m\u001b[0mresult\u001b[0m\u001b[0;34m)\u001b[0m\u001b[0;34m\u001b[0m\u001b[0;34m\u001b[0m\u001b[0m\n\u001b[1;32m    357\u001b[0m         \u001b[0;32mif\u001b[0m \u001b[0mresult\u001b[0m\u001b[0;34m.\u001b[0m\u001b[0mis_number\u001b[0m \u001b[0;32mand\u001b[0m \u001b[0mresult\u001b[0m\u001b[0;34m.\u001b[0m\u001b[0mas_real_imag\u001b[0m\u001b[0;34m(\u001b[0m\u001b[0;34m)\u001b[0m\u001b[0;34m[\u001b[0m\u001b[0;36m1\u001b[0m\u001b[0;34m]\u001b[0m\u001b[0;34m:\u001b[0m\u001b[0;34m\u001b[0m\u001b[0;34m\u001b[0m\u001b[0m\n\u001b[0;32m--> 358\u001b[0;31m             \u001b[0;32mraise\u001b[0m \u001b[0mTypeError\u001b[0m\u001b[0;34m(\u001b[0m\u001b[0;34m\"can't convert complex to float\"\u001b[0m\u001b[0;34m)\u001b[0m\u001b[0;34m\u001b[0m\u001b[0;34m\u001b[0m\u001b[0m\n\u001b[0m\u001b[1;32m    359\u001b[0m         \u001b[0;32mraise\u001b[0m \u001b[0mTypeError\u001b[0m\u001b[0;34m(\u001b[0m\u001b[0;34m\"can't convert expression to float\"\u001b[0m\u001b[0;34m)\u001b[0m\u001b[0;34m\u001b[0m\u001b[0;34m\u001b[0m\u001b[0m\n\u001b[1;32m    360\u001b[0m \u001b[0;34m\u001b[0m\u001b[0m\n",
      "\u001b[0;31mTypeError\u001b[0m: can't convert complex to float"
     ]
    }
   ],
   "source": [
    "plot_complex_function(Y, sigma_min=-10, sigma_max=1, omega_max=10, log_omega=True, plot_conj=True)"
   ]
  },
  {
   "cell_type": "code",
   "execution_count": null,
   "metadata": {},
   "outputs": [],
   "source": []
  },
  {
   "cell_type": "code",
   "execution_count": null,
   "metadata": {},
   "outputs": [],
   "source": []
  }
 ],
 "metadata": {
  "kernelspec": {
   "display_name": "Python 3 (ipykernel)",
   "language": "python",
   "name": "python3"
  },
  "language_info": {
   "codemirror_mode": {
    "name": "ipython",
    "version": 3
   },
   "file_extension": ".py",
   "mimetype": "text/x-python",
   "name": "python",
   "nbconvert_exporter": "python",
   "pygments_lexer": "ipython3",
   "version": "3.8.12"
  }
 },
 "nbformat": 4,
 "nbformat_minor": 4
}
